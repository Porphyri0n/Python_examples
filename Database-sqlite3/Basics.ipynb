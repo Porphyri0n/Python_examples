{
 "cells": [
  {
   "cell_type": "markdown",
   "metadata": {},
   "source": [
    "<h1>Welcome to Sqlite3 Basics</h1>\n",
    "<br><br>\n",
    "<t>You need to have basic knowledge on python to understand these notes</t><br><br>\n",
    "<t>Written by: porphri0n</t><br>\n",
    "<a href = \"https://github.com/Porphyri0n/Python_examples\">Go to Github page</a>"
   ]
  },
  {
   "cell_type": "markdown",
   "metadata": {},
   "source": [
    "<h4>0.0 First you need to import the library. The library's name is sqlite3.</h4>"
   ]
  },
  {
   "cell_type": "code",
   "execution_count": 1,
   "metadata": {},
   "outputs": [],
   "source": [
    "# We are importing as sql for easier usage\n",
    "import sqlite3 as sql"
   ]
  },
  {
   "cell_type": "markdown",
   "metadata": {},
   "source": [
    "<h4>If you don't have the library you can download it with PIP. Follow the command below in your python path.</h4>\n",
    "<t>-->pip install sqlite3</t>"
   ]
  },
  {
   "cell_type": "markdown",
   "metadata": {},
   "source": [
    "If you imported the library succesfully we can start to learn how to use it."
   ]
  },
  {
   "cell_type": "markdown",
   "metadata": {},
   "source": [
    "<h4>1.1 Creating database</h4>\n",
    "<t>first you need a cursor for making procceces.</t>"
   ]
  }
 ],
 "metadata": {
  "kernelspec": {
   "display_name": "Python 3.9.12 ('base')",
   "language": "python",
   "name": "python3"
  },
  "language_info": {
   "name": "python",
   "version": "3.9.12"
  },
  "orig_nbformat": 4,
  "vscode": {
   "interpreter": {
    "hash": "d7288e82646d3164eca24130947288f8779d11454649f2c02a5dfc42af7f324c"
   }
  }
 },
 "nbformat": 4,
 "nbformat_minor": 2
}
